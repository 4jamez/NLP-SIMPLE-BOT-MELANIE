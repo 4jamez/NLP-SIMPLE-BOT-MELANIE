{
  "cells": [
    {
      "cell_type": "code",
      "execution_count": 1,
      "metadata": {
        "colab": {
          "base_uri": "https://localhost:8080/"
        },
        "id": "CO5evebJQMv7",
        "outputId": "d0055230-81a1-4256-b8ef-c8326df6e5e0"
      },
      "outputs": [
        {
          "output_type": "stream",
          "name": "stdout",
          "text": [
            "Yooh , I am MELANIE, your simple vibe bot\n",
            "You can end our convo,at any time u feel like leavimg me\n",
            "After typing each answer,press 'enter'\n",
            "How are you today\n",
            "> fine thank you\n",
            "Funny weather we've been having,isn't it?\n",
            "> yes it is\n",
            "Thats is quite interesting, please tell us more \n",
            "> its dark cloudy and scary\n",
            "Thats is quite interesting, please tell us more \n",
            "> yeah\n",
            "Did you catch the game last night?\n",
            "> yes\n",
            "let's change the subject .\n",
            "> yes\n",
            "Did you catch the game last night?\n",
            "> yes\n",
            "I see.Do go on.\n",
            "> yes\n",
            "I see.Do go on.\n",
            "> yes\n",
            "Funny weather we've been having,isn't it?\n",
            "> yes\n",
            "let's change the subject .\n",
            "> bye\n",
            "It was nice talking to you, BYE LONER!\n"
          ]
        }
      ],
      "source": [
        "import random\n",
        "\n",
        "random_responses = [\"Thats is quite interesting, please tell us more \",\n",
        "                    \"I see.Do go on.\",\n",
        "                    \"Why do you say that?\",\n",
        "                    \"Funny weather we've been having,isn't it?\",\n",
        "                    \"let's change the subject .\",\n",
        "                    \"Did you catch the game last night?\"]\n",
        "\n",
        "print(\"Yooh , I am MELANIE, your simple vibe bot\")\n",
        "print(\"You can end our convo,at any time u feel like leavimg me\")\n",
        "print(\"After typing each answer,press 'enter'\")\n",
        "print(\"How are you today\")\n",
        "\n",
        "while True:\n",
        "  user_input = input(\"> \")\n",
        "  if user_input.lower() == \"bye\":\n",
        "    break\n",
        "  else:\n",
        "    response=random.choices(random_responses)[0]\n",
        "  print(response)\n",
        "\n",
        "print(\"It was nice talking to you, BYE LONER!\")"
      ]
    },
    {
      "cell_type": "markdown",
      "metadata": {
        "id": "XpterU7jSsV3"
      },
      "source": [
        "\n",
        "\n",
        "```\n",
        "# This is formatted as code\n",
        "```\n",
        "\n"
      ]
    }
  ],
  "metadata": {
    "colab": {
      "provenance": []
    },
    "kernelspec": {
      "display_name": "Python 3",
      "name": "python3"
    },
    "language_info": {
      "name": "python"
    }
  },
  "nbformat": 4,
  "nbformat_minor": 0
}